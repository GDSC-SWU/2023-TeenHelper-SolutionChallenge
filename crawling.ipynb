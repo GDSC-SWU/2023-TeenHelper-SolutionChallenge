{
 "cells": [
  {
   "cell_type": "code",
   "execution_count": 1,
   "metadata": {},
   "outputs": [
    {
     "name": "stdout",
     "output_type": "stream",
     "text": [
      "Collecting selenium\n",
      "  Downloading selenium-4.8.3-py3-none-any.whl (6.5 MB)\n",
      "\u001b[2K     \u001b[90m━━━━━━━━━━━━━━━━━━━━━━━━━━━━━━━━━━━━━━━━\u001b[0m \u001b[32m6.5/6.5 MB\u001b[0m \u001b[31m9.7 MB/s\u001b[0m eta \u001b[36m0:00:00\u001b[0ma \u001b[36m0:00:01\u001b[0mm\n",
      "\u001b[?25hCollecting urllib3[socks]~=1.26\n",
      "  Using cached urllib3-1.26.15-py2.py3-none-any.whl (140 kB)\n",
      "Collecting trio~=0.17\n",
      "  Using cached trio-0.22.0-py3-none-any.whl (384 kB)\n",
      "Collecting trio-websocket~=0.9\n",
      "  Downloading trio_websocket-0.10.2-py3-none-any.whl (17 kB)\n",
      "Collecting certifi>=2021.10.8\n",
      "  Using cached certifi-2022.12.7-py3-none-any.whl (155 kB)\n",
      "Requirement already satisfied: attrs>=19.2.0 in /Users/jiyunbae/Library/Python/3.11/lib/python/site-packages (from trio~=0.17->selenium) (22.1.0)\n",
      "Collecting sortedcontainers\n",
      "  Using cached sortedcontainers-2.4.0-py2.py3-none-any.whl (29 kB)\n",
      "Collecting async-generator>=1.9\n",
      "  Using cached async_generator-1.10-py3-none-any.whl (18 kB)\n",
      "Requirement already satisfied: idna in /Users/jiyunbae/Library/Python/3.11/lib/python/site-packages (from trio~=0.17->selenium) (3.4)\n",
      "Collecting outcome\n",
      "  Using cached outcome-1.2.0-py2.py3-none-any.whl (9.7 kB)\n",
      "Requirement already satisfied: sniffio in /Users/jiyunbae/Library/Python/3.11/lib/python/site-packages (from trio~=0.17->selenium) (1.3.0)\n",
      "Collecting exceptiongroup\n",
      "  Using cached exceptiongroup-1.1.1-py3-none-any.whl (14 kB)\n",
      "Collecting wsproto>=0.14\n",
      "  Using cached wsproto-1.2.0-py3-none-any.whl (24 kB)\n",
      "Collecting PySocks!=1.5.7,<2.0,>=1.5.6\n",
      "  Using cached PySocks-1.7.1-py3-none-any.whl (16 kB)\n",
      "Collecting h11<1,>=0.9.0\n",
      "  Using cached h11-0.14.0-py3-none-any.whl (58 kB)\n",
      "Installing collected packages: sortedcontainers, urllib3, PySocks, outcome, h11, exceptiongroup, certifi, async-generator, wsproto, trio, trio-websocket, selenium\n",
      "Successfully installed PySocks-1.7.1 async-generator-1.10 certifi-2022.12.7 exceptiongroup-1.1.1 h11-0.14.0 outcome-1.2.0 selenium-4.8.3 sortedcontainers-2.4.0 trio-0.22.0 trio-websocket-0.10.2 urllib3-1.26.15 wsproto-1.2.0\n",
      "\n",
      "\u001b[1m[\u001b[0m\u001b[34;49mnotice\u001b[0m\u001b[1;39;49m]\u001b[0m\u001b[39;49m A new release of pip available: \u001b[0m\u001b[31;49m22.3.1\u001b[0m\u001b[39;49m -> \u001b[0m\u001b[32;49m23.0.1\u001b[0m\n",
      "\u001b[1m[\u001b[0m\u001b[34;49mnotice\u001b[0m\u001b[1;39;49m]\u001b[0m\u001b[39;49m To update, run: \u001b[0m\u001b[32;49mpython3.11 -m pip install --upgrade pip\u001b[0m\n",
      "Note: you may need to restart the kernel to use updated packages.\n"
     ]
    }
   ],
   "source": [
    "%pip install selenium"
   ]
  },
  {
   "cell_type": "code",
   "execution_count": 29,
   "metadata": {},
   "outputs": [],
   "source": [
    "from selenium import webdriver\n",
    "from selenium.webdriver.common.by import By\n",
    "import pandas as pd"
   ]
  },
  {
   "cell_type": "code",
   "execution_count": 68,
   "metadata": {},
   "outputs": [],
   "source": [
    "urls=[\"http://www.stand1318.com/bbs/board.php?bo_table=5_2\",\"https://www.facebook.com/forten1318?locale=ko_KR\",\"https://www.facebook.com/dreams9570/\"]\n"
   ]
  },
  {
   "cell_type": "code",
   "execution_count": 69,
   "metadata": {},
   "outputs": [],
   "source": [
    "driver = webdriver.Chrome()\n",
    "#driver.get(urls[0])"
   ]
  },
  {
   "cell_type": "code",
   "execution_count": 70,
   "metadata": {},
   "outputs": [
    {
     "name": "stdout",
     "output_type": "stream",
     "text": [
      "여기는\n",
      "[<selenium.webdriver.remote.webelement.WebElement (session=\"058a200027fe7d745e1bc8e1cc189ac2\", element=\"16812946-def4-41e3-af7b-721ed8d3ae53\")>, <selenium.webdriver.remote.webelement.WebElement (session=\"058a200027fe7d745e1bc8e1cc189ac2\", element=\"9a411dca-cd9c-4797-9833-1c1ec5d822be\")>, <selenium.webdriver.remote.webelement.WebElement (session=\"058a200027fe7d745e1bc8e1cc189ac2\", element=\"ac75cda9-c718-46c9-a868-26135531ae59\")>, <selenium.webdriver.remote.webelement.WebElement (session=\"058a200027fe7d745e1bc8e1cc189ac2\", element=\"e6897ce0-cdfe-4b7e-aa58-1a1e648f503b\")>, <selenium.webdriver.remote.webelement.WebElement (session=\"058a200027fe7d745e1bc8e1cc189ac2\", element=\"97798539-d4da-4dc3-a944-015ff7e3c5a9\")>, <selenium.webdriver.remote.webelement.WebElement (session=\"058a200027fe7d745e1bc8e1cc189ac2\", element=\"ccf15fc7-c386-4f8b-8660-50ba239787fb\")>, <selenium.webdriver.remote.webelement.WebElement (session=\"058a200027fe7d745e1bc8e1cc189ac2\", element=\"05ac9642-96d4-4647-af38-255e7881841e\")>, <selenium.webdriver.remote.webelement.WebElement (session=\"058a200027fe7d745e1bc8e1cc189ac2\", element=\"0f32dbfb-89da-4c23-96c7-919d556aea4c\")>, <selenium.webdriver.remote.webelement.WebElement (session=\"058a200027fe7d745e1bc8e1cc189ac2\", element=\"beb099ea-aa45-48da-9dd6-26bbb32b453e\")>, <selenium.webdriver.remote.webelement.WebElement (session=\"058a200027fe7d745e1bc8e1cc189ac2\", element=\"3cab0452-0ee6-42b7-8291-f0ebdb9546b3\")>, <selenium.webdriver.remote.webelement.WebElement (session=\"058a200027fe7d745e1bc8e1cc189ac2\", element=\"e90406c3-90ad-450b-aa2b-80c0e752ff84\")>, <selenium.webdriver.remote.webelement.WebElement (session=\"058a200027fe7d745e1bc8e1cc189ac2\", element=\"f3365be7-120e-4b90-a7a3-f15987c2ea03\")>, <selenium.webdriver.remote.webelement.WebElement (session=\"058a200027fe7d745e1bc8e1cc189ac2\", element=\"0d76a4c2-2cd5-4a1c-89c7-0e3894814375\")>, <selenium.webdriver.remote.webelement.WebElement (session=\"058a200027fe7d745e1bc8e1cc189ac2\", element=\"300c35e5-67fd-4b20-a45a-030137e1cd30\")>, <selenium.webdriver.remote.webelement.WebElement (session=\"058a200027fe7d745e1bc8e1cc189ac2\", element=\"e913ab1f-124e-4ec4-bc2b-8574701566da\")>]\n"
     ]
    },
    {
     "ename": "NoSuchElementException",
     "evalue": "Message: no such element: Unable to locate element: {\"method\":\"xpath\",\"selector\":\".//*[@id=\"gall_ul\"]/li[1]/div/div[2]/div[2]\"}\n  (Session info: chrome=111.0.5563.64)\nStacktrace:\n0   chromedriver                        0x0000000102d27428 chromedriver + 4899880\n1   chromedriver                        0x0000000102ca4a23 chromedriver + 4364835\n2   chromedriver                        0x00000001028eebf6 chromedriver + 474102\n3   chromedriver                        0x00000001029324f0 chromedriver + 750832\n4   chromedriver                        0x0000000102932751 chromedriver + 751441\n5   chromedriver                        0x0000000102924486 chromedriver + 693382\n6   chromedriver                        0x000000010295858d chromedriver + 906637\n7   chromedriver                        0x0000000102924361 chromedriver + 693089\n8   chromedriver                        0x000000010295871e chromedriver + 907038\n9   chromedriver                        0x0000000102973b5b chromedriver + 1018715\n10  chromedriver                        0x0000000102958333 chromedriver + 906035\n11  chromedriver                        0x000000010292255f chromedriver + 685407\n12  chromedriver                        0x0000000102923a7e chromedriver + 690814\n13  chromedriver                        0x0000000102cf479e chromedriver + 4691870\n14  chromedriver                        0x0000000102cf9961 chromedriver + 4712801\n15  chromedriver                        0x0000000102d002ff chromedriver + 4739839\n16  chromedriver                        0x0000000102cfa85a chromedriver + 4716634\n17  chromedriver                        0x0000000102cccfce chromedriver + 4530126\n18  chromedriver                        0x0000000102d1a5c8 chromedriver + 4847048\n19  chromedriver                        0x0000000102d1a747 chromedriver + 4847431\n20  chromedriver                        0x0000000102d2f87f chromedriver + 4933759\n21  libsystem_pthread.dylib             0x00007ff818687259 _pthread_start + 125\n22  libsystem_pthread.dylib             0x00007ff818682c7b thread_start + 15\n",
     "output_type": "error",
     "traceback": [
      "\u001b[0;31m---------------------------------------------------------------------------\u001b[0m",
      "\u001b[0;31mNoSuchElementException\u001b[0m                    Traceback (most recent call last)",
      "Cell \u001b[0;32mIn[70], line 11\u001b[0m\n\u001b[1;32m      9\u001b[0m \u001b[39mprint\u001b[39m(posts)\n\u001b[1;32m     10\u001b[0m \u001b[39mfor\u001b[39;00m post \u001b[39min\u001b[39;00m posts:\n\u001b[0;32m---> 11\u001b[0m     title \u001b[39m=\u001b[39m post\u001b[39m.\u001b[39;49mfind_element(By\u001b[39m.\u001b[39;49mXPATH,\u001b[39m'\u001b[39;49m\u001b[39m.//*[@id=\u001b[39;49m\u001b[39m\"\u001b[39;49m\u001b[39mgall_ul\u001b[39;49m\u001b[39m\"\u001b[39;49m\u001b[39m]/li[1]/div/div[2]/div[2]\u001b[39;49m\u001b[39m'\u001b[39;49m)\n\u001b[1;32m     12\u001b[0m     when \u001b[39m=\u001b[39m post\u001b[39m.\u001b[39mfind_element(By\u001b[39m.\u001b[39mXPATH,\u001b[39m'\u001b[39m\u001b[39m.//*[@id=\u001b[39m\u001b[39m\"\u001b[39m\u001b[39mgall_ul\u001b[39m\u001b[39m\"\u001b[39m\u001b[39m]/li[1]/div/div[2]/div[3]/span[3]\u001b[39m\u001b[39m'\u001b[39m)\n\u001b[1;32m     13\u001b[0m     \u001b[39mprint\u001b[39m(title)\n",
      "File \u001b[0;32m/opt/miniconda3/envs/tensorflow/lib/python3.9/site-packages/selenium/webdriver/remote/webelement.py:425\u001b[0m, in \u001b[0;36mWebElement.find_element\u001b[0;34m(self, by, value)\u001b[0m\n\u001b[1;32m    422\u001b[0m     by \u001b[39m=\u001b[39m By\u001b[39m.\u001b[39mCSS_SELECTOR\n\u001b[1;32m    423\u001b[0m     value \u001b[39m=\u001b[39m \u001b[39mf\u001b[39m\u001b[39m'\u001b[39m\u001b[39m[name=\u001b[39m\u001b[39m\"\u001b[39m\u001b[39m{\u001b[39;00mvalue\u001b[39m}\u001b[39;00m\u001b[39m\"\u001b[39m\u001b[39m]\u001b[39m\u001b[39m'\u001b[39m\n\u001b[0;32m--> 425\u001b[0m \u001b[39mreturn\u001b[39;00m \u001b[39mself\u001b[39;49m\u001b[39m.\u001b[39;49m_execute(Command\u001b[39m.\u001b[39;49mFIND_CHILD_ELEMENT, {\u001b[39m\"\u001b[39;49m\u001b[39musing\u001b[39;49m\u001b[39m\"\u001b[39;49m: by, \u001b[39m\"\u001b[39;49m\u001b[39mvalue\u001b[39;49m\u001b[39m\"\u001b[39;49m: value})[\u001b[39m\"\u001b[39m\u001b[39mvalue\u001b[39m\u001b[39m\"\u001b[39m]\n",
      "File \u001b[0;32m/opt/miniconda3/envs/tensorflow/lib/python3.9/site-packages/selenium/webdriver/remote/webelement.py:403\u001b[0m, in \u001b[0;36mWebElement._execute\u001b[0;34m(self, command, params)\u001b[0m\n\u001b[1;32m    401\u001b[0m     params \u001b[39m=\u001b[39m {}\n\u001b[1;32m    402\u001b[0m params[\u001b[39m\"\u001b[39m\u001b[39mid\u001b[39m\u001b[39m\"\u001b[39m] \u001b[39m=\u001b[39m \u001b[39mself\u001b[39m\u001b[39m.\u001b[39m_id\n\u001b[0;32m--> 403\u001b[0m \u001b[39mreturn\u001b[39;00m \u001b[39mself\u001b[39;49m\u001b[39m.\u001b[39;49m_parent\u001b[39m.\u001b[39;49mexecute(command, params)\n",
      "File \u001b[0;32m/opt/miniconda3/envs/tensorflow/lib/python3.9/site-packages/selenium/webdriver/remote/webdriver.py:440\u001b[0m, in \u001b[0;36mWebDriver.execute\u001b[0;34m(self, driver_command, params)\u001b[0m\n\u001b[1;32m    438\u001b[0m response \u001b[39m=\u001b[39m \u001b[39mself\u001b[39m\u001b[39m.\u001b[39mcommand_executor\u001b[39m.\u001b[39mexecute(driver_command, params)\n\u001b[1;32m    439\u001b[0m \u001b[39mif\u001b[39;00m response:\n\u001b[0;32m--> 440\u001b[0m     \u001b[39mself\u001b[39;49m\u001b[39m.\u001b[39;49merror_handler\u001b[39m.\u001b[39;49mcheck_response(response)\n\u001b[1;32m    441\u001b[0m     response[\u001b[39m\"\u001b[39m\u001b[39mvalue\u001b[39m\u001b[39m\"\u001b[39m] \u001b[39m=\u001b[39m \u001b[39mself\u001b[39m\u001b[39m.\u001b[39m_unwrap_value(response\u001b[39m.\u001b[39mget(\u001b[39m\"\u001b[39m\u001b[39mvalue\u001b[39m\u001b[39m\"\u001b[39m, \u001b[39mNone\u001b[39;00m))\n\u001b[1;32m    442\u001b[0m     \u001b[39mreturn\u001b[39;00m response\n",
      "File \u001b[0;32m/opt/miniconda3/envs/tensorflow/lib/python3.9/site-packages/selenium/webdriver/remote/errorhandler.py:245\u001b[0m, in \u001b[0;36mErrorHandler.check_response\u001b[0;34m(self, response)\u001b[0m\n\u001b[1;32m    243\u001b[0m         alert_text \u001b[39m=\u001b[39m value[\u001b[39m\"\u001b[39m\u001b[39malert\u001b[39m\u001b[39m\"\u001b[39m]\u001b[39m.\u001b[39mget(\u001b[39m\"\u001b[39m\u001b[39mtext\u001b[39m\u001b[39m\"\u001b[39m)\n\u001b[1;32m    244\u001b[0m     \u001b[39mraise\u001b[39;00m exception_class(message, screen, stacktrace, alert_text)  \u001b[39m# type: ignore[call-arg]  # mypy is not smart enough here\u001b[39;00m\n\u001b[0;32m--> 245\u001b[0m \u001b[39mraise\u001b[39;00m exception_class(message, screen, stacktrace)\n",
      "\u001b[0;31mNoSuchElementException\u001b[0m: Message: no such element: Unable to locate element: {\"method\":\"xpath\",\"selector\":\".//*[@id=\"gall_ul\"]/li[1]/div/div[2]/div[2]\"}\n  (Session info: chrome=111.0.5563.64)\nStacktrace:\n0   chromedriver                        0x0000000102d27428 chromedriver + 4899880\n1   chromedriver                        0x0000000102ca4a23 chromedriver + 4364835\n2   chromedriver                        0x00000001028eebf6 chromedriver + 474102\n3   chromedriver                        0x00000001029324f0 chromedriver + 750832\n4   chromedriver                        0x0000000102932751 chromedriver + 751441\n5   chromedriver                        0x0000000102924486 chromedriver + 693382\n6   chromedriver                        0x000000010295858d chromedriver + 906637\n7   chromedriver                        0x0000000102924361 chromedriver + 693089\n8   chromedriver                        0x000000010295871e chromedriver + 907038\n9   chromedriver                        0x0000000102973b5b chromedriver + 1018715\n10  chromedriver                        0x0000000102958333 chromedriver + 906035\n11  chromedriver                        0x000000010292255f chromedriver + 685407\n12  chromedriver                        0x0000000102923a7e chromedriver + 690814\n13  chromedriver                        0x0000000102cf479e chromedriver + 4691870\n14  chromedriver                        0x0000000102cf9961 chromedriver + 4712801\n15  chromedriver                        0x0000000102d002ff chromedriver + 4739839\n16  chromedriver                        0x0000000102cfa85a chromedriver + 4716634\n17  chromedriver                        0x0000000102cccfce chromedriver + 4530126\n18  chromedriver                        0x0000000102d1a5c8 chromedriver + 4847048\n19  chromedriver                        0x0000000102d1a747 chromedriver + 4847431\n20  chromedriver                        0x0000000102d2f87f chromedriver + 4933759\n21  libsystem_pthread.dylib             0x00007ff818687259 _pthread_start + 125\n22  libsystem_pthread.dylib             0x00007ff818682c7b thread_start + 15\n"
     ]
    }
   ],
   "source": [
    "post_list=[]\n",
    "for i in range(len(urls)):\n",
    "    if \"facebook\" in urls[i]:\n",
    "        print(\"hi\")\n",
    "    else:\n",
    "        driver.get(urls[i])\n",
    "        posts = driver.find_elements(By.CLASS_NAME,'gall_li col-gn-4')\n",
    "        print(\"여기는\")\n",
    "        print(posts)\n",
    "        for post in posts:\n",
    "            title = post.find_element(By.XPATH,'.//*[@id=\"gall_ul\"]/li[1]/div/div[2]/div[2]')\n",
    "            when = post.find_element(By.XPATH,'.//*[@id=\"gall_ul\"]/li[1]/div/div[2]/div[3]/span[3]')\n",
    "            print(title)\n",
    "            print(\"여기여기\")\n",
    "            post_item ={\n",
    "                'title': title,\n",
    "                'posted': when\n",
    "            }\n",
    "\n",
    "            post_list.append(post_item)\n",
    "        \n",
    "\n"
   ]
  },
  {
   "cell_type": "code",
   "execution_count": 73,
   "metadata": {},
   "outputs": [
    {
     "name": "stdout",
     "output_type": "stream",
     "text": [
      "[<selenium.webdriver.remote.webelement.WebElement (session=\"058a200027fe7d745e1bc8e1cc189ac2\", element=\"0ce5ccf0-c4ab-4a76-b669-f529fd3f9bba\")>, <selenium.webdriver.remote.webelement.WebElement (session=\"058a200027fe7d745e1bc8e1cc189ac2\", element=\"6294df59-97d9-463f-b549-af5bd86117c9\")>, <selenium.webdriver.remote.webelement.WebElement (session=\"058a200027fe7d745e1bc8e1cc189ac2\", element=\"d292793f-87ec-43d0-af75-49679f5346f4\")>, <selenium.webdriver.remote.webelement.WebElement (session=\"058a200027fe7d745e1bc8e1cc189ac2\", element=\"a4aed1f3-4b31-4d2f-a834-d163b840117a\")>, <selenium.webdriver.remote.webelement.WebElement (session=\"058a200027fe7d745e1bc8e1cc189ac2\", element=\"857b8bef-2c5a-491d-abbb-4b0139055470\")>, <selenium.webdriver.remote.webelement.WebElement (session=\"058a200027fe7d745e1bc8e1cc189ac2\", element=\"11dc445a-a60f-47be-a1ae-fe96246cdc34\")>, <selenium.webdriver.remote.webelement.WebElement (session=\"058a200027fe7d745e1bc8e1cc189ac2\", element=\"ec00c4b5-f88c-4243-b7fc-4a6d0a0ef2ab\")>, <selenium.webdriver.remote.webelement.WebElement (session=\"058a200027fe7d745e1bc8e1cc189ac2\", element=\"30c9aeea-639d-4d1f-bc78-8ad087264e95\")>, <selenium.webdriver.remote.webelement.WebElement (session=\"058a200027fe7d745e1bc8e1cc189ac2\", element=\"da363d88-7e0a-425f-b56a-2a2ca0f34274\")>, <selenium.webdriver.remote.webelement.WebElement (session=\"058a200027fe7d745e1bc8e1cc189ac2\", element=\"d18ae1e8-0788-4ce0-982b-54d2049d5f7e\")>, <selenium.webdriver.remote.webelement.WebElement (session=\"058a200027fe7d745e1bc8e1cc189ac2\", element=\"7b86ed89-1549-4cc9-a6c8-cedf7d291c20\")>, <selenium.webdriver.remote.webelement.WebElement (session=\"058a200027fe7d745e1bc8e1cc189ac2\", element=\"7370abe6-6df3-43ef-b3f4-39acd5cd757e\")>, <selenium.webdriver.remote.webelement.WebElement (session=\"058a200027fe7d745e1bc8e1cc189ac2\", element=\"7d12ac8c-63e7-4ba7-b178-a11c1c66d97c\")>, <selenium.webdriver.remote.webelement.WebElement (session=\"058a200027fe7d745e1bc8e1cc189ac2\", element=\"5635bfb9-b4e5-4f3c-8424-de05b83d5d5a\")>, <selenium.webdriver.remote.webelement.WebElement (session=\"058a200027fe7d745e1bc8e1cc189ac2\", element=\"d2e151dd-09cc-4650-89a0-58e8096aa80f\")>]\n",
      "Element not found for URL: http://www.stand1318.com/bbs/board.php?bo_table=5_2\n",
      "Element not found for URL: http://www.stand1318.com/bbs/board.php?bo_table=5_2\n",
      "Element not found for URL: http://www.stand1318.com/bbs/board.php?bo_table=5_2\n",
      "Element not found for URL: http://www.stand1318.com/bbs/board.php?bo_table=5_2\n",
      "Element not found for URL: http://www.stand1318.com/bbs/board.php?bo_table=5_2\n",
      "Element not found for URL: http://www.stand1318.com/bbs/board.php?bo_table=5_2\n",
      "Element not found for URL: http://www.stand1318.com/bbs/board.php?bo_table=5_2\n",
      "Element not found for URL: http://www.stand1318.com/bbs/board.php?bo_table=5_2\n",
      "Element not found for URL: http://www.stand1318.com/bbs/board.php?bo_table=5_2\n",
      "Element not found for URL: http://www.stand1318.com/bbs/board.php?bo_table=5_2\n",
      "Element not found for URL: http://www.stand1318.com/bbs/board.php?bo_table=5_2\n",
      "Element not found for URL: http://www.stand1318.com/bbs/board.php?bo_table=5_2\n",
      "Element not found for URL: http://www.stand1318.com/bbs/board.php?bo_table=5_2\n",
      "Element not found for URL: http://www.stand1318.com/bbs/board.php?bo_table=5_2\n",
      "Element not found for URL: http://www.stand1318.com/bbs/board.php?bo_table=5_2\n",
      "Skipping Facebook URL: https://www.facebook.com/forten1318?locale=ko_KR\n",
      "Skipping Facebook URL: https://www.facebook.com/dreams9570/\n"
     ]
    }
   ],
   "source": [
    "post_list = []\n",
    "for url in urls:\n",
    "    if \"facebook\" in url:\n",
    "        print(\"Skipping Facebook URL:\", url)\n",
    "        continue\n",
    "    driver.get(url)\n",
    "    posts = driver.find_elements(By.CLASS_NAME, 'gall_box')\n",
    "    print(posts)\n",
    "    for post in posts:\n",
    "        try:\n",
    "            title = post.find_element(By.XPATH, './/a[@class=\"subject\"]').text\n",
    "            when = post.find_element(By.XPATH, './/span[@class=\"gall_date\"]').text\n",
    "            post_item = {\n",
    "                'title': title,\n",
    "                'posted': when\n",
    "            }\n",
    "            post_list.append(post_item)\n",
    "        except :\n",
    "            print(\"Element not found for URL:\", url)\n"
   ]
  },
  {
   "cell_type": "code",
   "execution_count": 64,
   "metadata": {},
   "outputs": [
    {
     "name": "stdout",
     "output_type": "stream",
     "text": [
      "Empty DataFrame\n",
      "Columns: []\n",
      "Index: []\n"
     ]
    }
   ],
   "source": [
    "df = pd.DataFrame(post_list)\n",
    "print(df)"
   ]
  },
  {
   "cell_type": "code",
   "execution_count": 49,
   "metadata": {},
   "outputs": [
    {
     "ename": "SyntaxError",
     "evalue": "invalid syntax (921222174.py, line 1)",
     "output_type": "error",
     "traceback": [
      "\u001b[0;36m  Cell \u001b[0;32mIn[49], line 1\u001b[0;36m\u001b[0m\n\u001b[0;31m    row_1=df.head(1).['title']\u001b[0m\n\u001b[0m                     ^\u001b[0m\n\u001b[0;31mSyntaxError\u001b[0m\u001b[0;31m:\u001b[0m invalid syntax\n"
     ]
    }
   ],
   "source": [
    "row_1=df.head(1).['title']\n",
    "print(row_1)"
   ]
  },
  {
   "cell_type": "code",
   "execution_count": 76,
   "metadata": {},
   "outputs": [
    {
     "name": "stdout",
     "output_type": "stream",
     "text": [
      "dududududu\n"
     ]
    }
   ],
   "source": [
    "from selenium import webdriver\n",
    "from selenium.webdriver.common.by import By\n",
    "\n",
    "# Create a new instance of the Firefox driver\n",
    "driver = webdriver.Chrome()\n",
    "\n",
    "# Navigate to the website\n",
    "driver.get(\"http://www.stand1318.com/bbs/board.php?bo_table=5_2\")\n",
    "\n",
    "# Find all the post titles\n",
    "titles = driver.find_elements(By.XPATH, \"//a[@class='subject']\")\n",
    "print(\"dududududu\")\n",
    "\n",
    "# Print the titles\n",
    "for title in titles:\n",
    "    print(\"didididiidii\")\n",
    "    print(title.text)\n",
    "\n",
    "# Close the browser\n",
    "driver.quit()\n"
   ]
  },
  {
   "cell_type": "code",
   "execution_count": 77,
   "metadata": {},
   "outputs": [
    {
     "name": "stdout",
     "output_type": "stream",
     "text": [
      "[]\n"
     ]
    }
   ],
   "source": [
    "print(titles)"
   ]
  },
  {
   "cell_type": "code",
   "execution_count": 78,
   "metadata": {},
   "outputs": [
    {
     "ename": "TimeoutException",
     "evalue": "Message: \nStacktrace:\nRemoteError@chrome://remote/content/shared/RemoteError.sys.mjs:8:8\nWebDriverError@chrome://remote/content/shared/webdriver/Errors.sys.mjs:182:5\nNoSuchElementError@chrome://remote/content/shared/webdriver/Errors.sys.mjs:394:5\nelement.find/</<@chrome://remote/content/marionette/element.sys.mjs:280:16\n",
     "output_type": "error",
     "traceback": [
      "\u001b[0;31m---------------------------------------------------------------------------\u001b[0m",
      "\u001b[0;31mTimeoutException\u001b[0m                          Traceback (most recent call last)",
      "Cell \u001b[0;32mIn[78], line 16\u001b[0m\n\u001b[1;32m     14\u001b[0m \u001b[39m# Wait for the page to load and accept the cookies\u001b[39;00m\n\u001b[1;32m     15\u001b[0m wait \u001b[39m=\u001b[39m WebDriverWait(driver, \u001b[39m10\u001b[39m)\n\u001b[0;32m---> 16\u001b[0m accept_cookies_button \u001b[39m=\u001b[39m wait\u001b[39m.\u001b[39;49muntil(EC\u001b[39m.\u001b[39;49melement_to_be_clickable((By\u001b[39m.\u001b[39;49mXPATH, \u001b[39m\"\u001b[39;49m\u001b[39m//a[@class=\u001b[39;49m\u001b[39m'\u001b[39;49m\u001b[39mu_cbox_btn_agree\u001b[39;49m\u001b[39m'\u001b[39;49m\u001b[39m]\u001b[39;49m\u001b[39m\"\u001b[39;49m)))\n\u001b[1;32m     17\u001b[0m accept_cookies_button\u001b[39m.\u001b[39mclick()\n\u001b[1;32m     19\u001b[0m \u001b[39m# Find and click the button to show all posts\u001b[39;00m\n",
      "File \u001b[0;32m/opt/miniconda3/envs/tensorflow/lib/python3.9/site-packages/selenium/webdriver/support/wait.py:95\u001b[0m, in \u001b[0;36mWebDriverWait.until\u001b[0;34m(self, method, message)\u001b[0m\n\u001b[1;32m     93\u001b[0m     \u001b[39mif\u001b[39;00m time\u001b[39m.\u001b[39mmonotonic() \u001b[39m>\u001b[39m end_time:\n\u001b[1;32m     94\u001b[0m         \u001b[39mbreak\u001b[39;00m\n\u001b[0;32m---> 95\u001b[0m \u001b[39mraise\u001b[39;00m TimeoutException(message, screen, stacktrace)\n",
      "\u001b[0;31mTimeoutException\u001b[0m: Message: \nStacktrace:\nRemoteError@chrome://remote/content/shared/RemoteError.sys.mjs:8:8\nWebDriverError@chrome://remote/content/shared/webdriver/Errors.sys.mjs:182:5\nNoSuchElementError@chrome://remote/content/shared/webdriver/Errors.sys.mjs:394:5\nelement.find/</<@chrome://remote/content/marionette/element.sys.mjs:280:16\n"
     ]
    }
   ],
   "source": [
    "from selenium import webdriver\n",
    "from selenium.webdriver.common.by import By\n",
    "from selenium.webdriver.common.keys import Keys\n",
    "from selenium.webdriver.common.action_chains import ActionChains\n",
    "from selenium.webdriver.support.ui import WebDriverWait\n",
    "from selenium.webdriver.support import expected_conditions as EC\n",
    "\n",
    "# Create a new instance of the Firefox driver\n",
    "driver = webdriver.Firefox()\n",
    "\n",
    "# Navigate to the website\n",
    "driver.get(\"http://www.stand1318.com/bbs/board.php?bo_table=5_2\")\n",
    "\n",
    "# Wait for the page to load and accept the cookies\n",
    "wait = WebDriverWait(driver, 10)\n",
    "accept_cookies_button = wait.until(EC.element_to_be_clickable((By.XPATH, \"//a[@class='u_cbox_btn_agree']\")))\n",
    "accept_cookies_button.click()\n",
    "\n",
    "# Find and click the button to show all posts\n",
    "show_all_posts_button = wait.until(EC.element_to_be_clickable((By.XPATH, \"//a[@class='btn_allview']\")))\n",
    "show_all_posts_button.click()\n",
    "\n",
    "# Scroll down to the end of the page to load all the posts\n",
    "while True:\n",
    "    last_height = driver.execute_script(\"return document.body.scrollHeight\")\n",
    "    driver.execute_script(\"window.scrollTo(0, document.body.scrollHeight);\")\n",
    "    try:\n",
    "        # Wait for the \"Loading...\" element to disappear\n",
    "        wait.until_not(EC.presence_of_element_located((By.XPATH, \"//div[@class='list_load']\")))\n",
    "    except:\n",
    "        pass\n",
    "    new_height = driver.execute_script(\"return document.body.scrollHeight\")\n",
    "    if new_height == last_height:\n",
    "        break\n",
    "    last_height = new_height\n",
    "\n",
    "# Find all the post titles\n",
    "titles = driver.find_elements(By.XPATH, \"//a[@class='subject']\")\n",
    "\n",
    "# Print the titles\n",
    "for title in titles:\n",
    "    print(title.text)\n",
    "\n",
    "# Close the browser\n",
    "driver.quit()\n"
   ]
  },
  {
   "cell_type": "code",
   "execution_count": 91,
   "metadata": {},
   "outputs": [
    {
     "name": "stdout",
     "output_type": "stream",
     "text": [
      "2023 경기도 자립두배통장 안내& 자주하는 질문!! 모음 02-27\n",
      "(홍보자료) 경기도 청소년 자립두배통장 참가자 모집 안내 02-15\n",
      "(홍보자료)'청소년복지시설 퇴소 경계선지능 청소년 주거지원사업' 홍보영상 01-31\n",
      "(홍보자료) 경기북부청소년자립지원관 특별지원 택배발송 안내 01-31\n",
      "'청소년복지시설 퇴소 경계선지능 청소년 주거지원사업' 자립지원 매뉴얼북 01-19\n",
      "(홍보자료) '청소년복지시설 퇴소 경계선지능 청소년 주거지원사업' 성과연구 결과공유회 개최 01-19\n",
      "2022년 경기북부청소년자립지원관 하반기 소식지 01-17\n",
      "(홍보자료) 경기북부청소년자립지원관 10월 카드뉴스 11-10\n",
      "(홍보자료) 경기북부청소년자립지원관 개관 4주년 11-01\n",
      "(홍보자료)마스크팩 2종, 틴트 후원물품 수령 10-18\n",
      "(홍보자료) 2022 경기도 가정 밖 청소년 자립 지원 마라톤 '너를 응RUN해' 카드뉴스 10-18\n",
      "(홍보자료) 경기북부청소년자립지원관 9월 비전모임 카드뉴스 10-06\n",
      "(홍보자료) '섬유향수'후원물품 수령 09-22\n",
      "(홍보자료) 경기북부청소년자립지원관 8월 카드뉴스 09-16\n",
      "(홍보자료) 경기북부청소년자립지원관 7월 카드뉴스 09-16\n"
     ]
    }
   ],
   "source": [
    "from selenium import webdriver\n",
    "from bs4 import BeautifulSoup\n",
    "\n",
    "# Create a new instance of the Firefox driver\n",
    "driver = webdriver.Chrome()\n",
    "\n",
    "# Navigate to the website\n",
    "driver.get(\"http://www.stand1318.com/bbs/board.php?bo_table=5_2\")\n",
    "\n",
    "# Wait for the page to load\n",
    "driver.implicitly_wait(10)\n",
    "\n",
    "# Get the HTML source of the page\n",
    "html = driver.page_source\n",
    "\n",
    "# Parse the HTML with BeautifulSoup\n",
    "soup = BeautifulSoup(html, 'html.parser')\n",
    "\n",
    "# Find all the posts\n",
    "posts = soup.find_all('div', class_='gall_con')\n",
    "\n",
    "# Loop through each post and extract the title and date\n",
    "for post in posts:\n",
    "    # Find the title and date elements\n",
    "    title_elem = post.find('a', class_='bo_tit')\n",
    "    date_elem = post.find('span', class_='gall_date')\n",
    "    \n",
    "    \n",
    "    # Extract the title and date text\n",
    "    title = title_elem.text.strip()\n",
    "    date_text = date_elem.text.strip()\n",
    "    date_str = date_text.split(' ')[-1]\n",
    "    \n",
    "    # Print the title and date\n",
    "    print(title, date_str)\n",
    "\n",
    "# Close the browser\n",
    "driver.quit()\n"
   ]
  },
  {
   "cell_type": "code",
   "execution_count": null,
   "metadata": {},
   "outputs": [],
   "source": [
    "from selenium import webdriver\n",
    "from bs4 import BeautifulSoup\n",
    "import time\n",
    "import os\n",
    "from dotenv import load_dotenv\n",
    "from selenium.webdriver.common.by import By\n",
    "\n",
    "# Load the environment variables from the .env file\n",
    "load_dotenv()\n",
    "email = os.getenv('EMAIL')\n",
    "password = os.getenv('PASSWORD')\n",
    "\n",
    "# Set up the Selenium webdriver\n",
    "driver = webdriver.Chrome()\n",
    "driver.get('https://www.facebook.com')\n",
    "\n",
    "# Find the email and password fields, and enter your login credentials\n",
    "email_field = driver.find_element(By.ID,'email')\n",
    "email_field.send_keys(email)\n",
    "\n",
    "password_field = driver.find_element(By.ID,'pass')\n",
    "password_field.send_keys(password)\n",
    "\n",
    "# Find the login button and click it\n",
    "login_button = driver.find_element(By.NAME,'login')\n",
    "login_button.click()\n",
    "\n",
    "# Wait for the page to load and navigate to the target page\n",
    "time.sleep(5)\n",
    "driver.get('https://www.facebook.com/forten1318?locale=ko_KR')\n",
    "\n",
    "\n",
    "while True:\n",
    "    driver.execute_script('window.scrollTo(0, document.body.scrollHeight);')\n",
    "    time.sleep(5)\n",
    "    page_source = driver.page_source\n",
    "    soup = BeautifulSoup(page_source, 'html.parser')\n",
    "    posts = soup.find_all('div', {'class': 'x1yztbdb x1n2onr6 xh8yej3 x1ja2u2z'})\n",
    "    if len(posts) >= 5:\n",
    "        break\n",
    "\n",
    "# Scroll down the page to load more posts\n",
    "'''for i in range(5):\n",
    "    driver.execute_script('window.scrollTo(0, document.body.scrollHeight);')\n",
    "    time.sleep(5)\n",
    "\n",
    "# Extract the page source and parse it with BeautifulSoup\n",
    "page_source = driver.page_source\n",
    "soup = BeautifulSoup(page_source, 'html.parser')\n",
    "\n",
    "# Find all the posts on the page\n",
    "posts = soup.find_all('div', {'class': 'x1yztbdb x1n2onr6 xh8yej3 x1ja2u2z'})\n",
    "\n",
    "# Print the post text and url\n",
    "for post in posts:\n",
    "    post_text = post.find('div', {'class': 'x11i5rnm xat24cr x1mh8g0r x1vvkbs xdj266r x126k92a'})\n",
    "    post_url = post.find('a', {'class': 'x1i10hfl xjbqb8w x6umtig x1b1mbwd xaqea5y xav7gou x9f619 x1ypdohk xt0psk2 xe8uvvx xdj266r x11i5rnm xat24cr x1mh8g0r xexx8yu x4uap5 x18d9i69 xkhd6sd x16tdsg8 x1hl2dhg xggy1nq x1a2a7pz x1heor9g xt0b8zv xo1l8bm'})\n",
    "    if post_text is not None and post_url is not None:\n",
    "        print(post_text.text)\n",
    "        print(post_url['href'])'''\n",
    "\n",
    "# Print the post text and url\n",
    "for post in posts:\n",
    "    post_text = post.find('div', {'class': 'x11i5rnm xat24cr x1mh8g0r x1vvkbs xdj266r x126k92a'})\n",
    "    post_url = post.find('a', {'class': 'x1i10hfl xjbqb8w x6umtig x1b1mbwd xaqea5y xav7gou x9f619 x1ypdohk xt0psk2 xe8uvvx xdj266r x11i5rnm xat24cr x1mh8g0r xexx8yu x4uap5 x18d9i69 xkhd6sd x16tdsg8 x1hl2dhg xggy1nq x1a2a7pz x1heor9g xt0b8zv xo1l8bm'})\n",
    "    text = post_text.text.strip()\n",
    "    first_sentence = re.split('_|-',text)[0]\n",
    "\n",
    "    if post_text is not None and post_url is not None:\n",
    "        print(first_sentence)\n",
    "        print(post_url['href'])\n",
    "\n",
    "# Close the browser\n",
    "driver.quit()\n"
   ]
  },
  {
   "cell_type": "code",
   "execution_count": null,
   "metadata": {},
   "outputs": [],
   "source": [
    "from selenium import webdriver\n",
    "from bs4 import BeautifulSoup\n",
    "import time\n",
    "import os\n",
    "from dotenv import load_dotenv\n",
    "from selenium.webdriver.common.by import By\n",
    "\n",
    "# Load the environment variables from the .env file\n",
    "load_dotenv()\n",
    "email = os.getenv('EMAIL')\n",
    "password = os.getenv('PASSWORD')\n",
    "\n",
    "# Set up the Selenium webdriver\n",
    "driver = webdriver.Chrome()\n",
    "driver.get('https://www.facebook.com')\n",
    "\n",
    "# Find the email and password fields, and enter your login credentials\n",
    "email_field = driver.find_element(By.ID,'email')\n",
    "email_field.send_keys(email)\n",
    "\n",
    "password_field = driver.find_element(By.ID,'pass')\n",
    "password_field.send_keys(password)\n",
    "\n",
    "# Find the login button and click it\n",
    "login_button = driver.find_element(By.NAME,'login')\n",
    "login_button.click()\n",
    "\n",
    "# Wait for the page to load and navigate to the target page\n",
    "time.sleep(5)\n",
    "driver.get('https://www.facebook.com/forten1318?locale=ko_KR')\n",
    "\n",
    "# Scroll down the page to load more posts\n",
    "for i in range(3):\n",
    "    driver.execute_script('window.scrollTo(0, document.body.scrollHeight);')\n",
    "    time.sleep(5)\n",
    "\n",
    "# Extract the page source and parse it with BeautifulSoup\n",
    "page_source = driver.page_source\n",
    "soup = BeautifulSoup(page_source, 'html.parser')\n",
    "\n",
    "# Find all the posts on the page\n",
    "posts = soup.find_all('div', {'class': 'x1yztbdb x1n2onr6 xh8yej3 x1ja2u2z'})\n",
    "\n",
    "# Print the post text and url\n",
    "for post in posts:\n",
    "    post_text = post.find('div', {'class': 'x11i5rnm xat24cr x1mh8g0r x1vvkbs xdj266r x126k92a'})\n",
    "    post_url = post.find('a', {'class': 'x1i10hfl xjbqb8w x6umtig x1b1mbwd xaqea5y xav7gou x9f619 x1ypdohk xt0psk2 xe8uvvx xdj266r x11i5rnm xat24cr x1mh8g0r xexx8yu x4uap5 x18d9i69 xkhd6sd x16tdsg8 x1hl2dhg xggy1nq x1a2a7pz x1heor9g xt0b8zv xo1l8bm'})\n",
    "    text = post_text.text.strip()\n",
    "    first_sentence = text.split('.')[0]\n",
    "    \n",
    "    if post_text is not None and post_url is not None:\n",
    "        print(first_sentence)\n",
    "        print(post_url['href'])\n",
    "\n",
    "# Close the browser\n",
    "driver.quit()\n"
   ]
  }
 ],
 "metadata": {
  "kernelspec": {
   "display_name": "Python 3",
   "language": "python",
   "name": "python3"
  },
  "language_info": {
   "codemirror_mode": {
    "name": "ipython",
    "version": 3
   },
   "file_extension": ".py",
   "mimetype": "text/x-python",
   "name": "python",
   "nbconvert_exporter": "python",
   "pygments_lexer": "ipython3",
   "version": "3.11.2"
  },
  "orig_nbformat": 4
 },
 "nbformat": 4,
 "nbformat_minor": 2
}
